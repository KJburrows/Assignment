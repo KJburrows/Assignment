{
  "nbformat": 4,
  "nbformat_minor": 0,
  "metadata": {
    "colab": {
      "provenance": []
    },
    "kernelspec": {
      "name": "python3",
      "display_name": "Python 3"
    },
    "language_info": {
      "name": "python"
    }
  },
  "cells": [
    {
      "cell_type": "markdown",
      "source": [
        "\n",
        "#Data Science Tools and Ecosystem#"
      ],
      "metadata": {
        "id": "y0vuMdLc06PS"
      }
    },
    {
      "cell_type": "markdown",
      "source": [
        "In this notebook, Data Science Tools and Ecosystem are summarized."
      ],
      "metadata": {
        "id": "zDsJmrMh3o6C"
      }
    },
    {
      "cell_type": "markdown",
      "source": [
        "**Objectives:**\n",
        "* List popular languages for Data Science\n",
        "* List commonly used librairies by Data Scientists\n",
        "* Complete arithmatic operations"
      ],
      "metadata": {
        "id": "3d0dOhPDJIh0"
      }
    },
    {
      "cell_type": "markdown",
      "source": [
        "Some of the popular languages that Data Scientists use are:\n",
        "* Python\n",
        "* R\n",
        "* SQL"
      ],
      "metadata": {
        "id": "ZUgDdmEX4Eu5"
      }
    },
    {
      "cell_type": "markdown",
      "source": [
        "Some of the commonly used libraries used by Data Scientists include:\n",
        "* matplotlib\n",
        "* scikit-learn\n",
        "* pandas\n",
        "* Numoy\n",
        "* Pytorch"
      ],
      "metadata": {
        "id": "_5jun9Fh43qF"
      }
    },
    {
      "cell_type": "markdown",
      "source": [
        "|Data Science Tools|\n",
        "|------------------|\n",
        "|Goolge Colabrotory|\n",
        "|Jupyter Lab|\n",
        "|Spyder|"
      ],
      "metadata": {
        "id": "kHWxDp8Y8SsE"
      }
    },
    {
      "cell_type": "markdown",
      "source": [
        "### Below are a few examples of evaluating arithmetic expressions in Python*"
      ],
      "metadata": {
        "id": "ZZBGISXzFbkE"
      }
    },
    {
      "cell_type": "code",
      "source": [
        "(3*4)+5\n",
        "#This a simple arithmetic expression to mutiply then add integers."
      ],
      "metadata": {
        "colab": {
          "base_uri": "https://localhost:8080/"
        },
        "id": "ZkoLYKR_F4rL",
        "outputId": "97a151f8-1ada-487a-e2e4-21343423db34"
      },
      "execution_count": 1,
      "outputs": [
        {
          "output_type": "execute_result",
          "data": {
            "text/plain": [
              "17"
            ]
          },
          "metadata": {},
          "execution_count": 1
        }
      ]
    },
    {
      "cell_type": "code",
      "source": [
        "def min_to_hours(m):\n",
        "   hours = m/60\n",
        "   print(hours)\n",
        "\n",
        "min = 200\n",
        "min_to_hours(min)\n",
        "\n",
        "#This will convert 200 minutes to hours by diving by 60"
      ],
      "metadata": {
        "colab": {
          "base_uri": "https://localhost:8080/"
        },
        "id": "5wC8GzznGgwX",
        "outputId": "f3b24d07-56b5-4565-ff1f-10080b90bcc6"
      },
      "execution_count": 8,
      "outputs": [
        {
          "output_type": "stream",
          "name": "stdout",
          "text": [
            "3.3333333333333335\n"
          ]
        }
      ]
    },
    {
      "cell_type": "markdown",
      "source": [
        "## Author\n",
        "Kyrsten Burrows"
      ],
      "metadata": {
        "id": "QQYtCvQcKUWB"
      }
    }
  ]
}